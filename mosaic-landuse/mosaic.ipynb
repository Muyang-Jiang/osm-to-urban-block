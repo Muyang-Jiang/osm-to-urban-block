{
 "cells": [
  {
   "cell_type": "code",
   "execution_count": 24,
   "id": "dc87105f",
   "metadata": {},
   "outputs": [],
   "source": [
    "import rasterio\n",
    "import geopandas as gpd\n",
    "from rasterio.merge import merge\n",
    "from rasterio.plot import show\n",
    "import glob\n",
    "import os\n",
    "from shapely.geometry import box\n",
    "\n",
    "from tqdm import tqdm"
   ]
  },
  {
   "cell_type": "code",
   "execution_count": 33,
   "id": "a9a9ac8a",
   "metadata": {},
   "outputs": [],
   "source": [
    "os.chdir(r\"C:\\Users\\jmy67\\Desktop\\RS-buildings\\data\\landuse-CRLC\")"
   ]
  },
  {
   "cell_type": "code",
   "execution_count": 26,
   "id": "c0807663",
   "metadata": {},
   "outputs": [],
   "source": [
    "# Directory containing your TIFF files\n",
    "dir_path = r'CRLC-raw'\n",
    "# Search for all TIFF files in the directory\n",
    "search_criteria = \"*.tif\"\n",
    "\n",
    "# Output file path\n",
    "out_fp = r'CRLC-mosaic.tif'\n",
    "\n",
    "province = \"Guangdong\""
   ]
  },
  {
   "cell_type": "code",
   "execution_count": null,
   "id": "83d47970",
   "metadata": {},
   "outputs": [],
   "source": []
  },
  {
   "cell_type": "code",
   "execution_count": 28,
   "id": "f385179d",
   "metadata": {},
   "outputs": [],
   "source": [
    "province_path = r'C:\\Users\\jmy67\\Desktop\\RS-buildings\\data\\geo_bound_original\\version_31_1_2023_update_unzip\\2023\\province'\n",
    "gdf = gpd.read_file(os.path.join(province_path,\"province.shp\"))\n",
    "province_selected = gdf[gdf[\"ENG_NAME\"] == province].geometry.iloc[0]"
   ]
  },
  {
   "cell_type": "code",
   "execution_count": 32,
   "id": "ae734bc3",
   "metadata": {},
   "outputs": [
    {
     "name": "stderr",
     "output_type": "stream",
     "text": [
      "100%|██████████████████████████████████████████████████████████████████████████████| 1140/1140 [00:32<00:00, 35.09it/s]\n"
     ]
    }
   ],
   "source": [
    "search_criteria = \"*.tif\"\n",
    "query = os.path.join(dir_path, search_criteria)\n",
    "tiff_files = glob.glob(query)\n",
    "\n",
    "# Initialize list for rasters to mosaic\n",
    "rasters_paths_to_mosaic = []\n",
    "\n",
    "for tiff in tqdm(tiff_files):\n",
    "    with rasterio.open(tiff) as src:\n",
    "        # Create a bounding box geometry from the raster bounds\n",
    "        raster_bounds = src.bounds\n",
    "        raster_box = box(*raster_bounds)\n",
    "        \n",
    "        # Check if the raster intersects with the geometry\n",
    "        if raster_box.intersects(province_selected):\n",
    "            rasters_paths_to_mosaic.append(tiff)\n",
    "            \n",
    "if rasters_paths_to_mosaic:\n",
    "    # Open all rasters to mosaic at once, to avoid the dataset closed error\n",
    "    rasters_to_mosaic = [rasterio.open(tiff) for tiff in rasters_paths_to_mosaic]\n",
    "    mosaic, out_trans = merge(rasters_to_mosaic)\n",
    "    out_meta = rasters_to_mosaic[0].meta.copy()\n",
    "    \n",
    "    # Update metadata\n",
    "    out_meta.update({\"driver\": \"GTiff\",\n",
    "                     \"height\": mosaic.shape[1],\n",
    "                     \"width\": mosaic.shape[2],\n",
    "                     \"transform\": out_trans,\n",
    "                     \"crs\": rasters_to_mosaic[0].crs})\n",
    "    \n",
    "    # Output file path\n",
    "    out_fp = f'CRLC-province/mosaic_{province}.tif'\n",
    "    \n",
    "    # Write the mosaic raster to disk\n",
    "    with rasterio.open(out_fp, \"w\", **out_meta) as dest:\n",
    "        dest.write(mosaic)\n",
    "\n",
    "    # Close all datasets\n",
    "    for src in rasters_to_mosaic:\n",
    "        src.close()\n",
    "    "
   ]
  },
  {
   "cell_type": "code",
   "execution_count": null,
   "id": "7b04c2ad",
   "metadata": {},
   "outputs": [],
   "source": []
  }
 ],
 "metadata": {
  "kernelspec": {
   "display_name": "Python 3 (ipykernel)",
   "language": "python",
   "name": "python3"
  },
  "language_info": {
   "codemirror_mode": {
    "name": "ipython",
    "version": 3
   },
   "file_extension": ".py",
   "mimetype": "text/x-python",
   "name": "python",
   "nbconvert_exporter": "python",
   "pygments_lexer": "ipython3",
   "version": "3.8.16"
  }
 },
 "nbformat": 4,
 "nbformat_minor": 5
}
